{
 "cells": [
  {
   "cell_type": "code",
   "execution_count": 60,
   "metadata": {
    "collapsed": true
   },
   "outputs": [],
   "source": [
    "from lmfit import minimize, Parameters, Parameter, report_fit\n",
    "import math\n",
    "import numpy as np\n",
    "import pandas as pd"
   ]
  },
  {
   "cell_type": "code",
   "execution_count": 11,
   "metadata": {
    "collapsed": false
   },
   "outputs": [],
   "source": [
    "data = pd.read_csv(\"./augment/softmax.csv\", header=None)"
   ]
  },
  {
   "cell_type": "code",
   "execution_count": 46,
   "metadata": {
    "collapsed": false
   },
   "outputs": [],
   "source": [
    "total_vals = len(data.iloc[0, :])\n",
    "sim_size = total_vals - 4\n",
    "sim_data = data.iloc[:, 0:sim_size]\n",
    "true_data = data.loc[:, sim_size:sim_size + 4]"
   ]
  },
  {
   "cell_type": "code",
   "execution_count": 47,
   "metadata": {
    "collapsed": false
   },
   "outputs": [],
   "source": [
    "for i in range(0, sim_size,  4):\n",
    "    if i == 0:\n",
    "        sim_d = sim_data.iloc[:, i].values\n",
    "    else:\n",
    "        sim_d = np.concatenate((sim_d, sim_data.iloc[:, i].values), axis=0)\n",
    "        \n",
    "for i in range(1, sim_size,  4):\n",
    "    if i == 1:\n",
    "        sim_r = sim_data.iloc[:, i].values\n",
    "    else:\n",
    "        sim_r = np.concatenate((sim_r, sim_data.iloc[:, i].values), axis=0)\n",
    "        \n",
    "for i in range(2, sim_size,  4):\n",
    "    if i == 2:\n",
    "        sim_vel = sim_data.iloc[:, i].values\n",
    "    else:\n",
    "        sim_vel = np.concatenate((sim_vel, sim_data.iloc[:, i].values), axis=0)\n",
    "        \n",
    "for i in range(3, sim_size,  4):\n",
    "    if i == 3:\n",
    "        sim_acc = sim_data.iloc[:, i].values\n",
    "    else:\n",
    "        sim_acc = np.concatenate((sim_acc, sim_data.iloc[:, i].values), axis=0)"
   ]
  },
  {
   "cell_type": "code",
   "execution_count": 49,
   "metadata": {
    "collapsed": false
   },
   "outputs": [],
   "source": [
    "# Get true values\n",
    "true_d = true_data.iloc[:, 0].values\n",
    "true_r = true_data.iloc[:, 1].values\n",
    "true_vel = true_data.iloc[:, 2].values\n",
    "true_acc = true_data.iloc[:, 3].values"
   ]
  },
  {
   "cell_type": "code",
   "execution_count": 92,
   "metadata": {
    "collapsed": false
   },
   "outputs": [],
   "source": [
    "acc = np.zeros(len(true_acc))\n",
    "x = np.zeros((len(true_acc), 3))\n",
    "\n",
    "count = 0\n",
    "for i in range(1, len(true_acc)):\n",
    "    if true_acc[i] != 0 and (i - 1) % 100 != 0 and true_d[i-1] != 0:\n",
    "        acc[count] = true_acc[i]\n",
    "        x[count, :] = [true_d[i-1], true_r[i-1], true_vel[i-1]]\n",
    "        count += 1\n",
    "        \n",
    "acc = acc[:count]\n",
    "x = x[:count, :]"
   ]
  },
  {
   "cell_type": "code",
   "execution_count": 95,
   "metadata": {
    "collapsed": true
   },
   "outputs": [],
   "source": [
    "# Function to minimize\n",
    "def IDM(params, i, true_acc):\n",
    "    dmn = params['dmn'].value\n",
    "    T = params['T'].value\n",
    "    bcmf = params['bcmf'].value\n",
    "    smx = params['smx'].value\n",
    "    \n",
    "    amx = 3\n",
    "    d = x[i, 0]\n",
    "    r = x[i, 1]\n",
    "    s = x[i, 2]\n",
    "    \n",
    "    d_des = dmn + T*s - s*r/2/math.sqrt(amx*bcmf)\n",
    "    pred = amx*(1 - (s/smx)**4 - (d_des/d)**2)\n",
    "    \n",
    "    return abs(pred - true_acc)\n",
    "    "
   ]
  },
  {
   "cell_type": "code",
   "execution_count": 143,
   "metadata": {
    "collapsed": true
   },
   "outputs": [],
   "source": [
    "# Define parameters\n",
    "params = Parameters()\n",
    "params.add('dmn', value = 15.0, min = 0.1, max = 20)\n",
    "params.add('T', value = 3., min = 1.0, max = 10)\n",
    "params.add('bcmf', value = 5.0, min = 0.1, max = 5)\n",
    "params.add('smx', value = 17.0, min = 0.1, max = 40)"
   ]
  },
  {
   "cell_type": "code",
   "execution_count": 144,
   "metadata": {
    "collapsed": false
   },
   "outputs": [],
   "source": [
    "result = minimize(IDM, params, args=(range(len(acc)), acc))"
   ]
  },
  {
   "cell_type": "code",
   "execution_count": 145,
   "metadata": {
    "collapsed": false
   },
   "outputs": [
    {
     "data": {
      "text/plain": [
       "Parameters([('dmn', <Parameter 'dmn', value=5.2723398878751597 +/- 0.0534, bounds=[0.1:20]>), ('T', <Parameter 'T', value=1.0001891519558783 +/- 0.00791, bounds=[1.0:10]>), ('bcmf', <Parameter 'bcmf', value=4.8734758643340692 +/- 0.058, bounds=[0.1:5]>), ('smx', <Parameter 'smx', value=17.169163489759775 +/- 0.066, bounds=[0.1:40]>)])"
      ]
     },
     "execution_count": 145,
     "metadata": {},
     "output_type": "execute_result"
    }
   ],
   "source": [
    "result.params"
   ]
  },
  {
   "cell_type": "code",
   "execution_count": 146,
   "metadata": {
    "collapsed": false
   },
   "outputs": [
    {
     "data": {
      "text/plain": [
       "1.5426901532820234"
      ]
     },
     "execution_count": 146,
     "metadata": {},
     "output_type": "execute_result"
    }
   ],
   "source": [
    "sum(result.residual)/count"
   ]
  },
  {
   "cell_type": "code",
   "execution_count": null,
   "metadata": {
    "collapsed": true
   },
   "outputs": [],
   "source": []
  }
 ],
 "metadata": {
  "kernelspec": {
   "display_name": "Python 2",
   "language": "python",
   "name": "python2"
  },
  "language_info": {
   "codemirror_mode": {
    "name": "ipython",
    "version": 2
   },
   "file_extension": ".py",
   "mimetype": "text/x-python",
   "name": "python",
   "nbconvert_exporter": "python",
   "pygments_lexer": "ipython2",
   "version": "2.7.10"
  }
 },
 "nbformat": 4,
 "nbformat_minor": 0
}
